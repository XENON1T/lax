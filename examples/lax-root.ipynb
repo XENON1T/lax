{
 "cells": [
  {
   "cell_type": "markdown",
   "metadata": {},
   "source": [
    "# Make ntuples from lax"
   ]
  },
  {
   "cell_type": "code",
   "execution_count": null,
   "metadata": {
    "collapsed": true
   },
   "outputs": [],
   "source": [
    "run_number = 3956\n",
    "pax_version = '6.4.2'"
   ]
  },
  {
   "cell_type": "code",
   "execution_count": null,
   "metadata": {
    "collapsed": false
   },
   "outputs": [
    {
     "name": "stderr",
     "output_type": "stream",
     "text": [
      "/project/lgrandi/anaconda3/envs/pax_head/lib/python3.4/site-packages/matplotlib/font_manager.py:273: UserWarning: Matplotlib is building the font cache using fc-list. This may take a moment.\n",
      "  warnings.warn('Matplotlib is building the font cache using fc-list. This may take a moment.')\n",
      "/project/lgrandi/anaconda3/envs/pax_head/lib/python3.4/site-packages/matplotlib/font_manager.py:273: UserWarning: Matplotlib is building the font cache using fc-list. This may take a moment.\n",
      "  warnings.warn('Matplotlib is building the font cache using fc-list. This may take a moment.')\n"
     ]
    }
   ],
   "source": [
    "import hax\n",
    "\n",
    "hax.init(experiment='XENON1T',\n",
    "         pax_version_policy = pax_version)"
   ]
  },
  {
   "cell_type": "code",
   "execution_count": null,
   "metadata": {
    "collapsed": false
   },
   "outputs": [],
   "source": [
    "df = hax.minitrees.load(run_number,\n",
    "                        [ 'Fundamentals', 'Basics', 'TotalProperties'])"
   ]
  },
  {
   "cell_type": "code",
   "execution_count": null,
   "metadata": {
    "collapsed": false
   },
   "outputs": [],
   "source": [
    "from lax.lichens import sciencerun0\n",
    "all_cuts = sciencerun0.AllCuts()\n",
    "low_energy_cuts = sciencerun0.LowEnergyCuts()\n",
    "\n",
    "old_columns = df.columns"
   ]
  },
  {
   "cell_type": "code",
   "execution_count": null,
   "metadata": {
    "collapsed": false
   },
   "outputs": [],
   "source": [
    "import root_pandas\n",
    "for cuts in [all_cuts, low_energy_cuts]:\n",
    "    df_temp = cuts.process(df.copy())\n",
    "    new_columns = [column for column in df_temp.columns if column not in old_columns]\n",
    "    \n",
    "    cuts_name = all_cuts.__class__.__name__\n",
    "    \n",
    "    df_temp.loc[:,new_columns].to_root('lax_%s_%d.root' % (cuts_name,\n",
    "                                        run_number))"
   ]
  }
 ],
 "metadata": {
  "kernelspec": {
   "display_name": "Python 3",
   "language": "python",
   "name": "python3"
  },
  "language_info": {
   "codemirror_mode": {
    "name": "ipython",
    "version": 3
   },
   "file_extension": ".py",
   "mimetype": "text/x-python",
   "name": "python",
   "nbconvert_exporter": "python",
   "pygments_lexer": "ipython3",
   "version": "3.4.4"
  }
 },
 "nbformat": 4,
 "nbformat_minor": 0
}
